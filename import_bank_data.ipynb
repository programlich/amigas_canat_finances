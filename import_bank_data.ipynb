{
 "cells": [
  {
   "cell_type": "code",
   "execution_count": 1,
   "id": "initial_id",
   "metadata": {
    "collapsed": true,
    "ExecuteTime": {
     "end_time": "2024-04-03T18:50:06.147740Z",
     "start_time": "2024-04-03T18:50:04.739313Z"
    }
   },
   "outputs": [],
   "source": [
    "import pandas as pd\n",
    "import matplotlib.pyplot as plt\n",
    "import plotly.express as px"
   ]
  },
  {
   "cell_type": "code",
   "outputs": [
    {
     "data": {
      "text/plain": "   Bezeichnung Auftragskonto      IBAN Auftragskonto BIC Auftragskonto  \\\n0        GLS gGeschäftskonto  DE58430609671309767300       GENODEM1GLS   \n1        GLS gGeschäftskonto  DE58430609671309767300       GENODEM1GLS   \n2        GLS gGeschäftskonto  DE58430609671309767300       GENODEM1GLS   \n3        GLS gGeschäftskonto  DE58430609671309767300       GENODEM1GLS   \n4        GLS gGeschäftskonto  DE58430609671309767300       GENODEM1GLS   \n..                       ...                     ...               ...   \n57       GLS gGeschäftskonto  DE58430609671309767300       GENODEM1GLS   \n58       GLS gGeschäftskonto  DE58430609671309767300       GENODEM1GLS   \n59       GLS gGeschäftskonto  DE58430609671309767300       GENODEM1GLS   \n60       GLS gGeschäftskonto  DE58430609671309767300       GENODEM1GLS   \n61       GLS gGeschäftskonto  DE58430609671309767300       GENODEM1GLS   \n\n      Bankname Auftragskonto Buchungstag Valutadatum  \\\n0   GLS Gemeinschaftsbank eG  03.04.2024  03.04.2024   \n1   GLS Gemeinschaftsbank eG  03.04.2024  03.04.2024   \n2   GLS Gemeinschaftsbank eG  03.04.2024  03.04.2024   \n3   GLS Gemeinschaftsbank eG  02.04.2024  02.04.2024   \n4   GLS Gemeinschaftsbank eG  02.04.2024  02.04.2024   \n..                       ...         ...         ...   \n57  GLS Gemeinschaftsbank eG  02.01.2024  02.01.2024   \n58  GLS Gemeinschaftsbank eG  02.01.2024  02.01.2024   \n59  GLS Gemeinschaftsbank eG  02.01.2024  02.01.2024   \n60  GLS Gemeinschaftsbank eG  02.01.2024  02.01.2024   \n61  GLS Gemeinschaftsbank eG  02.01.2024  02.01.2024   \n\n             Name Zahlungsbeteiligter IBAN Zahlungsbeteiligter  \\\n0            Irmgard Kreszenz Büchele   DE38100100100705485136   \n1                      Sophia Gebhard   DE56120300001019609484   \n2       Stefanie Lenz und Kilian Lenz   DE76120300001035702685   \n3                      Anna Schmieder   DE49850503004200785400   \n4        Benjamin Werner Julia Werner   DE52850503004200062211   \n..                                ...                      ...   \n57                     Anna Schmieder   DE49850503004200785400   \n58       Benjamin Werner Julia Werner   DE52850503004200062211   \n59  Sigrid Schmieder Detlef Schmieder   DE63850503004121763225   \n60    Wolfgang Arndt und Frau Sybille   DE45150505001237009711   \n61                  Matthias Gramlich   DE08430609671046762400   \n\n   BIC (SWIFT-Code) Zahlungsbeteiligter          Buchungstext  \\\n0                           PBNKDEFFXXX  Dauerauftragsgutschr   \n1                           BYLADEM1001  Dauerauftragsgutschr   \n2                           BYLADEM1001  Dauerauftragsgutschr   \n3                           OSDDDE81XXX  Dauerauftragsgutschr   \n4                           OSDDDE81XXX  Dauerauftragsgutschr   \n..                                  ...                   ...   \n57                          OSDDDE81XXX  Dauerauftragsgutschr   \n58                          OSDDDE81XXX  Dauerauftragsgutschr   \n59                          OSDDDE81XXX  Dauerauftragsgutschr   \n60                          NOLADE21GRW  Dauerauftragsgutschr   \n61                          GENODEM1GLS  Dauerauftragsgutschr   \n\n                Verwendungszweck Betrag Waehrung Saldo nach Buchung  \\\n0      Spende EREF: 000000009802  30,00      EUR            1346,80   \n1           Fördermitgliedschaft  15,00      EUR            1316,80   \n2   Mitgliedsbeitrag Kilian Lenz  25,00      EUR            1301,80   \n3               Mitgliedsbeitrag  15,00      EUR            1276,80   \n4     Kontofuhrungsgebuhr Verein   2,00      EUR            1261,80   \n..                           ...    ...      ...                ...   \n57              Mitgliedsbeitrag   7,00      EUR            3081,40   \n58    Kontofuhrungsgebuhr Verein   2,00      EUR            3074,40   \n59   Spende Fordermitgliedschaft  12,00      EUR            3072,40   \n60                        Spende  10,00      EUR            3060,40   \n61                        Spende  40,00      EUR            3050,40   \n\n    Bemerkung  Kategorie  Steuerrelevant Glaeubiger ID Mandatsreferenz  \n0         NaN  Sonstiges             NaN           NaN             NaN  \n1         NaN  Sonstiges             NaN           NaN             NaN  \n2         NaN  Sonstiges             NaN           NaN             NaN  \n3         NaN  Sonstiges             NaN           NaN             NaN  \n4         NaN  Sonstiges             NaN           NaN             NaN  \n..        ...        ...             ...           ...             ...  \n57        NaN  Sonstiges             NaN           NaN             NaN  \n58        NaN  Sonstiges             NaN           NaN             NaN  \n59        NaN  Sonstiges             NaN           NaN             NaN  \n60        NaN  Sonstiges             NaN           NaN             NaN  \n61        NaN  Sonstiges             NaN           NaN             NaN  \n\n[62 rows x 19 columns]",
      "text/html": "<div>\n<style scoped>\n    .dataframe tbody tr th:only-of-type {\n        vertical-align: middle;\n    }\n\n    .dataframe tbody tr th {\n        vertical-align: top;\n    }\n\n    .dataframe thead th {\n        text-align: right;\n    }\n</style>\n<table border=\"1\" class=\"dataframe\">\n  <thead>\n    <tr style=\"text-align: right;\">\n      <th></th>\n      <th>Bezeichnung Auftragskonto</th>\n      <th>IBAN Auftragskonto</th>\n      <th>BIC Auftragskonto</th>\n      <th>Bankname Auftragskonto</th>\n      <th>Buchungstag</th>\n      <th>Valutadatum</th>\n      <th>Name Zahlungsbeteiligter</th>\n      <th>IBAN Zahlungsbeteiligter</th>\n      <th>BIC (SWIFT-Code) Zahlungsbeteiligter</th>\n      <th>Buchungstext</th>\n      <th>Verwendungszweck</th>\n      <th>Betrag</th>\n      <th>Waehrung</th>\n      <th>Saldo nach Buchung</th>\n      <th>Bemerkung</th>\n      <th>Kategorie</th>\n      <th>Steuerrelevant</th>\n      <th>Glaeubiger ID</th>\n      <th>Mandatsreferenz</th>\n    </tr>\n  </thead>\n  <tbody>\n    <tr>\n      <th>0</th>\n      <td>GLS gGeschäftskonto</td>\n      <td>DE58430609671309767300</td>\n      <td>GENODEM1GLS</td>\n      <td>GLS Gemeinschaftsbank eG</td>\n      <td>03.04.2024</td>\n      <td>03.04.2024</td>\n      <td>Irmgard Kreszenz Büchele</td>\n      <td>DE38100100100705485136</td>\n      <td>PBNKDEFFXXX</td>\n      <td>Dauerauftragsgutschr</td>\n      <td>Spende EREF: 000000009802</td>\n      <td>30,00</td>\n      <td>EUR</td>\n      <td>1346,80</td>\n      <td>NaN</td>\n      <td>Sonstiges</td>\n      <td>NaN</td>\n      <td>NaN</td>\n      <td>NaN</td>\n    </tr>\n    <tr>\n      <th>1</th>\n      <td>GLS gGeschäftskonto</td>\n      <td>DE58430609671309767300</td>\n      <td>GENODEM1GLS</td>\n      <td>GLS Gemeinschaftsbank eG</td>\n      <td>03.04.2024</td>\n      <td>03.04.2024</td>\n      <td>Sophia Gebhard</td>\n      <td>DE56120300001019609484</td>\n      <td>BYLADEM1001</td>\n      <td>Dauerauftragsgutschr</td>\n      <td>Fördermitgliedschaft</td>\n      <td>15,00</td>\n      <td>EUR</td>\n      <td>1316,80</td>\n      <td>NaN</td>\n      <td>Sonstiges</td>\n      <td>NaN</td>\n      <td>NaN</td>\n      <td>NaN</td>\n    </tr>\n    <tr>\n      <th>2</th>\n      <td>GLS gGeschäftskonto</td>\n      <td>DE58430609671309767300</td>\n      <td>GENODEM1GLS</td>\n      <td>GLS Gemeinschaftsbank eG</td>\n      <td>03.04.2024</td>\n      <td>03.04.2024</td>\n      <td>Stefanie Lenz und Kilian Lenz</td>\n      <td>DE76120300001035702685</td>\n      <td>BYLADEM1001</td>\n      <td>Dauerauftragsgutschr</td>\n      <td>Mitgliedsbeitrag Kilian Lenz</td>\n      <td>25,00</td>\n      <td>EUR</td>\n      <td>1301,80</td>\n      <td>NaN</td>\n      <td>Sonstiges</td>\n      <td>NaN</td>\n      <td>NaN</td>\n      <td>NaN</td>\n    </tr>\n    <tr>\n      <th>3</th>\n      <td>GLS gGeschäftskonto</td>\n      <td>DE58430609671309767300</td>\n      <td>GENODEM1GLS</td>\n      <td>GLS Gemeinschaftsbank eG</td>\n      <td>02.04.2024</td>\n      <td>02.04.2024</td>\n      <td>Anna Schmieder</td>\n      <td>DE49850503004200785400</td>\n      <td>OSDDDE81XXX</td>\n      <td>Dauerauftragsgutschr</td>\n      <td>Mitgliedsbeitrag</td>\n      <td>15,00</td>\n      <td>EUR</td>\n      <td>1276,80</td>\n      <td>NaN</td>\n      <td>Sonstiges</td>\n      <td>NaN</td>\n      <td>NaN</td>\n      <td>NaN</td>\n    </tr>\n    <tr>\n      <th>4</th>\n      <td>GLS gGeschäftskonto</td>\n      <td>DE58430609671309767300</td>\n      <td>GENODEM1GLS</td>\n      <td>GLS Gemeinschaftsbank eG</td>\n      <td>02.04.2024</td>\n      <td>02.04.2024</td>\n      <td>Benjamin Werner Julia Werner</td>\n      <td>DE52850503004200062211</td>\n      <td>OSDDDE81XXX</td>\n      <td>Dauerauftragsgutschr</td>\n      <td>Kontofuhrungsgebuhr Verein</td>\n      <td>2,00</td>\n      <td>EUR</td>\n      <td>1261,80</td>\n      <td>NaN</td>\n      <td>Sonstiges</td>\n      <td>NaN</td>\n      <td>NaN</td>\n      <td>NaN</td>\n    </tr>\n    <tr>\n      <th>...</th>\n      <td>...</td>\n      <td>...</td>\n      <td>...</td>\n      <td>...</td>\n      <td>...</td>\n      <td>...</td>\n      <td>...</td>\n      <td>...</td>\n      <td>...</td>\n      <td>...</td>\n      <td>...</td>\n      <td>...</td>\n      <td>...</td>\n      <td>...</td>\n      <td>...</td>\n      <td>...</td>\n      <td>...</td>\n      <td>...</td>\n      <td>...</td>\n    </tr>\n    <tr>\n      <th>57</th>\n      <td>GLS gGeschäftskonto</td>\n      <td>DE58430609671309767300</td>\n      <td>GENODEM1GLS</td>\n      <td>GLS Gemeinschaftsbank eG</td>\n      <td>02.01.2024</td>\n      <td>02.01.2024</td>\n      <td>Anna Schmieder</td>\n      <td>DE49850503004200785400</td>\n      <td>OSDDDE81XXX</td>\n      <td>Dauerauftragsgutschr</td>\n      <td>Mitgliedsbeitrag</td>\n      <td>7,00</td>\n      <td>EUR</td>\n      <td>3081,40</td>\n      <td>NaN</td>\n      <td>Sonstiges</td>\n      <td>NaN</td>\n      <td>NaN</td>\n      <td>NaN</td>\n    </tr>\n    <tr>\n      <th>58</th>\n      <td>GLS gGeschäftskonto</td>\n      <td>DE58430609671309767300</td>\n      <td>GENODEM1GLS</td>\n      <td>GLS Gemeinschaftsbank eG</td>\n      <td>02.01.2024</td>\n      <td>02.01.2024</td>\n      <td>Benjamin Werner Julia Werner</td>\n      <td>DE52850503004200062211</td>\n      <td>OSDDDE81XXX</td>\n      <td>Dauerauftragsgutschr</td>\n      <td>Kontofuhrungsgebuhr Verein</td>\n      <td>2,00</td>\n      <td>EUR</td>\n      <td>3074,40</td>\n      <td>NaN</td>\n      <td>Sonstiges</td>\n      <td>NaN</td>\n      <td>NaN</td>\n      <td>NaN</td>\n    </tr>\n    <tr>\n      <th>59</th>\n      <td>GLS gGeschäftskonto</td>\n      <td>DE58430609671309767300</td>\n      <td>GENODEM1GLS</td>\n      <td>GLS Gemeinschaftsbank eG</td>\n      <td>02.01.2024</td>\n      <td>02.01.2024</td>\n      <td>Sigrid Schmieder Detlef Schmieder</td>\n      <td>DE63850503004121763225</td>\n      <td>OSDDDE81XXX</td>\n      <td>Dauerauftragsgutschr</td>\n      <td>Spende Fordermitgliedschaft</td>\n      <td>12,00</td>\n      <td>EUR</td>\n      <td>3072,40</td>\n      <td>NaN</td>\n      <td>Sonstiges</td>\n      <td>NaN</td>\n      <td>NaN</td>\n      <td>NaN</td>\n    </tr>\n    <tr>\n      <th>60</th>\n      <td>GLS gGeschäftskonto</td>\n      <td>DE58430609671309767300</td>\n      <td>GENODEM1GLS</td>\n      <td>GLS Gemeinschaftsbank eG</td>\n      <td>02.01.2024</td>\n      <td>02.01.2024</td>\n      <td>Wolfgang Arndt und Frau Sybille</td>\n      <td>DE45150505001237009711</td>\n      <td>NOLADE21GRW</td>\n      <td>Dauerauftragsgutschr</td>\n      <td>Spende</td>\n      <td>10,00</td>\n      <td>EUR</td>\n      <td>3060,40</td>\n      <td>NaN</td>\n      <td>Sonstiges</td>\n      <td>NaN</td>\n      <td>NaN</td>\n      <td>NaN</td>\n    </tr>\n    <tr>\n      <th>61</th>\n      <td>GLS gGeschäftskonto</td>\n      <td>DE58430609671309767300</td>\n      <td>GENODEM1GLS</td>\n      <td>GLS Gemeinschaftsbank eG</td>\n      <td>02.01.2024</td>\n      <td>02.01.2024</td>\n      <td>Matthias Gramlich</td>\n      <td>DE08430609671046762400</td>\n      <td>GENODEM1GLS</td>\n      <td>Dauerauftragsgutschr</td>\n      <td>Spende</td>\n      <td>40,00</td>\n      <td>EUR</td>\n      <td>3050,40</td>\n      <td>NaN</td>\n      <td>Sonstiges</td>\n      <td>NaN</td>\n      <td>NaN</td>\n      <td>NaN</td>\n    </tr>\n  </tbody>\n</table>\n<p>62 rows × 19 columns</p>\n</div>"
     },
     "execution_count": 5,
     "metadata": {},
     "output_type": "execute_result"
    }
   ],
   "source": [
    "df = pd.read_csv(\"Umsaetze_DE58430609671309767300_2024.04.03.csv\", sep=\";\")\n",
    "df"
   ],
   "metadata": {
    "collapsed": false,
    "ExecuteTime": {
     "end_time": "2024-04-03T18:53:06.979456Z",
     "start_time": "2024-04-03T18:53:06.963798Z"
    }
   },
   "id": "53cf62335a8878bd",
   "execution_count": 5
  },
  {
   "cell_type": "code",
   "outputs": [
    {
     "data": {
      "text/plain": "Bezeichnung Auftragskonto                object\nIBAN Auftragskonto                       object\nBIC Auftragskonto                        object\nBankname Auftragskonto                   object\nBuchungstag                              object\nValutadatum                              object\nName Zahlungsbeteiligter                 object\nIBAN Zahlungsbeteiligter                 object\nBIC (SWIFT-Code) Zahlungsbeteiligter     object\nBuchungstext                             object\nVerwendungszweck                         object\nBetrag                                   object\nWaehrung                                 object\nSaldo nach Buchung                       object\nBemerkung                               float64\nKategorie                                object\nSteuerrelevant                          float64\nGlaeubiger ID                            object\nMandatsreferenz                          object\ndtype: object"
     },
     "execution_count": 10,
     "metadata": {},
     "output_type": "execute_result"
    }
   ],
   "source": [
    "df.dtypes"
   ],
   "metadata": {
    "collapsed": false,
    "ExecuteTime": {
     "end_time": "2024-04-03T18:53:51.616150Z",
     "start_time": "2024-04-03T18:53:51.612348Z"
    }
   },
   "id": "36c3879271bef149",
   "execution_count": 10
  },
  {
   "cell_type": "code",
   "outputs": [
    {
     "data": {
      "text/plain": "   Bezeichnung Auftragskonto      IBAN Auftragskonto BIC Auftragskonto  \\\n0        GLS gGeschäftskonto  DE58430609671309767300       GENODEM1GLS   \n1        GLS gGeschäftskonto  DE58430609671309767300       GENODEM1GLS   \n2        GLS gGeschäftskonto  DE58430609671309767300       GENODEM1GLS   \n3        GLS gGeschäftskonto  DE58430609671309767300       GENODEM1GLS   \n4        GLS gGeschäftskonto  DE58430609671309767300       GENODEM1GLS   \n..                       ...                     ...               ...   \n57       GLS gGeschäftskonto  DE58430609671309767300       GENODEM1GLS   \n58       GLS gGeschäftskonto  DE58430609671309767300       GENODEM1GLS   \n59       GLS gGeschäftskonto  DE58430609671309767300       GENODEM1GLS   \n60       GLS gGeschäftskonto  DE58430609671309767300       GENODEM1GLS   \n61       GLS gGeschäftskonto  DE58430609671309767300       GENODEM1GLS   \n\n      Bankname Auftragskonto Buchungstag Valutadatum  \\\n0   GLS Gemeinschaftsbank eG  03.04.2024  03.04.2024   \n1   GLS Gemeinschaftsbank eG  03.04.2024  03.04.2024   \n2   GLS Gemeinschaftsbank eG  03.04.2024  03.04.2024   \n3   GLS Gemeinschaftsbank eG  02.04.2024  02.04.2024   \n4   GLS Gemeinschaftsbank eG  02.04.2024  02.04.2024   \n..                       ...         ...         ...   \n57  GLS Gemeinschaftsbank eG  02.01.2024  02.01.2024   \n58  GLS Gemeinschaftsbank eG  02.01.2024  02.01.2024   \n59  GLS Gemeinschaftsbank eG  02.01.2024  02.01.2024   \n60  GLS Gemeinschaftsbank eG  02.01.2024  02.01.2024   \n61  GLS Gemeinschaftsbank eG  02.01.2024  02.01.2024   \n\n             Name Zahlungsbeteiligter IBAN Zahlungsbeteiligter  \\\n0            Irmgard Kreszenz Büchele   DE38100100100705485136   \n1                      Sophia Gebhard   DE56120300001019609484   \n2       Stefanie Lenz und Kilian Lenz   DE76120300001035702685   \n3                      Anna Schmieder   DE49850503004200785400   \n4        Benjamin Werner Julia Werner   DE52850503004200062211   \n..                                ...                      ...   \n57                     Anna Schmieder   DE49850503004200785400   \n58       Benjamin Werner Julia Werner   DE52850503004200062211   \n59  Sigrid Schmieder Detlef Schmieder   DE63850503004121763225   \n60    Wolfgang Arndt und Frau Sybille   DE45150505001237009711   \n61                  Matthias Gramlich   DE08430609671046762400   \n\n   BIC (SWIFT-Code) Zahlungsbeteiligter          Buchungstext  \\\n0                           PBNKDEFFXXX  Dauerauftragsgutschr   \n1                           BYLADEM1001  Dauerauftragsgutschr   \n2                           BYLADEM1001  Dauerauftragsgutschr   \n3                           OSDDDE81XXX  Dauerauftragsgutschr   \n4                           OSDDDE81XXX  Dauerauftragsgutschr   \n..                                  ...                   ...   \n57                          OSDDDE81XXX  Dauerauftragsgutschr   \n58                          OSDDDE81XXX  Dauerauftragsgutschr   \n59                          OSDDDE81XXX  Dauerauftragsgutschr   \n60                          NOLADE21GRW  Dauerauftragsgutschr   \n61                          GENODEM1GLS  Dauerauftragsgutschr   \n\n                Verwendungszweck  Betrag Waehrung Saldo nach Buchung  \\\n0      Spende EREF: 000000009802    30.0      EUR            1346,80   \n1           Fördermitgliedschaft    15.0      EUR            1316,80   \n2   Mitgliedsbeitrag Kilian Lenz    25.0      EUR            1301,80   \n3               Mitgliedsbeitrag    15.0      EUR            1276,80   \n4     Kontofuhrungsgebuhr Verein     2.0      EUR            1261,80   \n..                           ...     ...      ...                ...   \n57              Mitgliedsbeitrag     7.0      EUR            3081,40   \n58    Kontofuhrungsgebuhr Verein     2.0      EUR            3074,40   \n59   Spende Fordermitgliedschaft    12.0      EUR            3072,40   \n60                        Spende    10.0      EUR            3060,40   \n61                        Spende    40.0      EUR            3050,40   \n\n    Bemerkung  Kategorie  Steuerrelevant Glaeubiger ID Mandatsreferenz  \n0         NaN  Sonstiges             NaN           NaN             NaN  \n1         NaN  Sonstiges             NaN           NaN             NaN  \n2         NaN  Sonstiges             NaN           NaN             NaN  \n3         NaN  Sonstiges             NaN           NaN             NaN  \n4         NaN  Sonstiges             NaN           NaN             NaN  \n..        ...        ...             ...           ...             ...  \n57        NaN  Sonstiges             NaN           NaN             NaN  \n58        NaN  Sonstiges             NaN           NaN             NaN  \n59        NaN  Sonstiges             NaN           NaN             NaN  \n60        NaN  Sonstiges             NaN           NaN             NaN  \n61        NaN  Sonstiges             NaN           NaN             NaN  \n\n[62 rows x 19 columns]",
      "text/html": "<div>\n<style scoped>\n    .dataframe tbody tr th:only-of-type {\n        vertical-align: middle;\n    }\n\n    .dataframe tbody tr th {\n        vertical-align: top;\n    }\n\n    .dataframe thead th {\n        text-align: right;\n    }\n</style>\n<table border=\"1\" class=\"dataframe\">\n  <thead>\n    <tr style=\"text-align: right;\">\n      <th></th>\n      <th>Bezeichnung Auftragskonto</th>\n      <th>IBAN Auftragskonto</th>\n      <th>BIC Auftragskonto</th>\n      <th>Bankname Auftragskonto</th>\n      <th>Buchungstag</th>\n      <th>Valutadatum</th>\n      <th>Name Zahlungsbeteiligter</th>\n      <th>IBAN Zahlungsbeteiligter</th>\n      <th>BIC (SWIFT-Code) Zahlungsbeteiligter</th>\n      <th>Buchungstext</th>\n      <th>Verwendungszweck</th>\n      <th>Betrag</th>\n      <th>Waehrung</th>\n      <th>Saldo nach Buchung</th>\n      <th>Bemerkung</th>\n      <th>Kategorie</th>\n      <th>Steuerrelevant</th>\n      <th>Glaeubiger ID</th>\n      <th>Mandatsreferenz</th>\n    </tr>\n  </thead>\n  <tbody>\n    <tr>\n      <th>0</th>\n      <td>GLS gGeschäftskonto</td>\n      <td>DE58430609671309767300</td>\n      <td>GENODEM1GLS</td>\n      <td>GLS Gemeinschaftsbank eG</td>\n      <td>03.04.2024</td>\n      <td>03.04.2024</td>\n      <td>Irmgard Kreszenz Büchele</td>\n      <td>DE38100100100705485136</td>\n      <td>PBNKDEFFXXX</td>\n      <td>Dauerauftragsgutschr</td>\n      <td>Spende EREF: 000000009802</td>\n      <td>30.0</td>\n      <td>EUR</td>\n      <td>1346,80</td>\n      <td>NaN</td>\n      <td>Sonstiges</td>\n      <td>NaN</td>\n      <td>NaN</td>\n      <td>NaN</td>\n    </tr>\n    <tr>\n      <th>1</th>\n      <td>GLS gGeschäftskonto</td>\n      <td>DE58430609671309767300</td>\n      <td>GENODEM1GLS</td>\n      <td>GLS Gemeinschaftsbank eG</td>\n      <td>03.04.2024</td>\n      <td>03.04.2024</td>\n      <td>Sophia Gebhard</td>\n      <td>DE56120300001019609484</td>\n      <td>BYLADEM1001</td>\n      <td>Dauerauftragsgutschr</td>\n      <td>Fördermitgliedschaft</td>\n      <td>15.0</td>\n      <td>EUR</td>\n      <td>1316,80</td>\n      <td>NaN</td>\n      <td>Sonstiges</td>\n      <td>NaN</td>\n      <td>NaN</td>\n      <td>NaN</td>\n    </tr>\n    <tr>\n      <th>2</th>\n      <td>GLS gGeschäftskonto</td>\n      <td>DE58430609671309767300</td>\n      <td>GENODEM1GLS</td>\n      <td>GLS Gemeinschaftsbank eG</td>\n      <td>03.04.2024</td>\n      <td>03.04.2024</td>\n      <td>Stefanie Lenz und Kilian Lenz</td>\n      <td>DE76120300001035702685</td>\n      <td>BYLADEM1001</td>\n      <td>Dauerauftragsgutschr</td>\n      <td>Mitgliedsbeitrag Kilian Lenz</td>\n      <td>25.0</td>\n      <td>EUR</td>\n      <td>1301,80</td>\n      <td>NaN</td>\n      <td>Sonstiges</td>\n      <td>NaN</td>\n      <td>NaN</td>\n      <td>NaN</td>\n    </tr>\n    <tr>\n      <th>3</th>\n      <td>GLS gGeschäftskonto</td>\n      <td>DE58430609671309767300</td>\n      <td>GENODEM1GLS</td>\n      <td>GLS Gemeinschaftsbank eG</td>\n      <td>02.04.2024</td>\n      <td>02.04.2024</td>\n      <td>Anna Schmieder</td>\n      <td>DE49850503004200785400</td>\n      <td>OSDDDE81XXX</td>\n      <td>Dauerauftragsgutschr</td>\n      <td>Mitgliedsbeitrag</td>\n      <td>15.0</td>\n      <td>EUR</td>\n      <td>1276,80</td>\n      <td>NaN</td>\n      <td>Sonstiges</td>\n      <td>NaN</td>\n      <td>NaN</td>\n      <td>NaN</td>\n    </tr>\n    <tr>\n      <th>4</th>\n      <td>GLS gGeschäftskonto</td>\n      <td>DE58430609671309767300</td>\n      <td>GENODEM1GLS</td>\n      <td>GLS Gemeinschaftsbank eG</td>\n      <td>02.04.2024</td>\n      <td>02.04.2024</td>\n      <td>Benjamin Werner Julia Werner</td>\n      <td>DE52850503004200062211</td>\n      <td>OSDDDE81XXX</td>\n      <td>Dauerauftragsgutschr</td>\n      <td>Kontofuhrungsgebuhr Verein</td>\n      <td>2.0</td>\n      <td>EUR</td>\n      <td>1261,80</td>\n      <td>NaN</td>\n      <td>Sonstiges</td>\n      <td>NaN</td>\n      <td>NaN</td>\n      <td>NaN</td>\n    </tr>\n    <tr>\n      <th>...</th>\n      <td>...</td>\n      <td>...</td>\n      <td>...</td>\n      <td>...</td>\n      <td>...</td>\n      <td>...</td>\n      <td>...</td>\n      <td>...</td>\n      <td>...</td>\n      <td>...</td>\n      <td>...</td>\n      <td>...</td>\n      <td>...</td>\n      <td>...</td>\n      <td>...</td>\n      <td>...</td>\n      <td>...</td>\n      <td>...</td>\n      <td>...</td>\n    </tr>\n    <tr>\n      <th>57</th>\n      <td>GLS gGeschäftskonto</td>\n      <td>DE58430609671309767300</td>\n      <td>GENODEM1GLS</td>\n      <td>GLS Gemeinschaftsbank eG</td>\n      <td>02.01.2024</td>\n      <td>02.01.2024</td>\n      <td>Anna Schmieder</td>\n      <td>DE49850503004200785400</td>\n      <td>OSDDDE81XXX</td>\n      <td>Dauerauftragsgutschr</td>\n      <td>Mitgliedsbeitrag</td>\n      <td>7.0</td>\n      <td>EUR</td>\n      <td>3081,40</td>\n      <td>NaN</td>\n      <td>Sonstiges</td>\n      <td>NaN</td>\n      <td>NaN</td>\n      <td>NaN</td>\n    </tr>\n    <tr>\n      <th>58</th>\n      <td>GLS gGeschäftskonto</td>\n      <td>DE58430609671309767300</td>\n      <td>GENODEM1GLS</td>\n      <td>GLS Gemeinschaftsbank eG</td>\n      <td>02.01.2024</td>\n      <td>02.01.2024</td>\n      <td>Benjamin Werner Julia Werner</td>\n      <td>DE52850503004200062211</td>\n      <td>OSDDDE81XXX</td>\n      <td>Dauerauftragsgutschr</td>\n      <td>Kontofuhrungsgebuhr Verein</td>\n      <td>2.0</td>\n      <td>EUR</td>\n      <td>3074,40</td>\n      <td>NaN</td>\n      <td>Sonstiges</td>\n      <td>NaN</td>\n      <td>NaN</td>\n      <td>NaN</td>\n    </tr>\n    <tr>\n      <th>59</th>\n      <td>GLS gGeschäftskonto</td>\n      <td>DE58430609671309767300</td>\n      <td>GENODEM1GLS</td>\n      <td>GLS Gemeinschaftsbank eG</td>\n      <td>02.01.2024</td>\n      <td>02.01.2024</td>\n      <td>Sigrid Schmieder Detlef Schmieder</td>\n      <td>DE63850503004121763225</td>\n      <td>OSDDDE81XXX</td>\n      <td>Dauerauftragsgutschr</td>\n      <td>Spende Fordermitgliedschaft</td>\n      <td>12.0</td>\n      <td>EUR</td>\n      <td>3072,40</td>\n      <td>NaN</td>\n      <td>Sonstiges</td>\n      <td>NaN</td>\n      <td>NaN</td>\n      <td>NaN</td>\n    </tr>\n    <tr>\n      <th>60</th>\n      <td>GLS gGeschäftskonto</td>\n      <td>DE58430609671309767300</td>\n      <td>GENODEM1GLS</td>\n      <td>GLS Gemeinschaftsbank eG</td>\n      <td>02.01.2024</td>\n      <td>02.01.2024</td>\n      <td>Wolfgang Arndt und Frau Sybille</td>\n      <td>DE45150505001237009711</td>\n      <td>NOLADE21GRW</td>\n      <td>Dauerauftragsgutschr</td>\n      <td>Spende</td>\n      <td>10.0</td>\n      <td>EUR</td>\n      <td>3060,40</td>\n      <td>NaN</td>\n      <td>Sonstiges</td>\n      <td>NaN</td>\n      <td>NaN</td>\n      <td>NaN</td>\n    </tr>\n    <tr>\n      <th>61</th>\n      <td>GLS gGeschäftskonto</td>\n      <td>DE58430609671309767300</td>\n      <td>GENODEM1GLS</td>\n      <td>GLS Gemeinschaftsbank eG</td>\n      <td>02.01.2024</td>\n      <td>02.01.2024</td>\n      <td>Matthias Gramlich</td>\n      <td>DE08430609671046762400</td>\n      <td>GENODEM1GLS</td>\n      <td>Dauerauftragsgutschr</td>\n      <td>Spende</td>\n      <td>40.0</td>\n      <td>EUR</td>\n      <td>3050,40</td>\n      <td>NaN</td>\n      <td>Sonstiges</td>\n      <td>NaN</td>\n      <td>NaN</td>\n      <td>NaN</td>\n    </tr>\n  </tbody>\n</table>\n<p>62 rows × 19 columns</p>\n</div>"
     },
     "execution_count": 13,
     "metadata": {},
     "output_type": "execute_result"
    }
   ],
   "source": [
    "df[\"Betrag\"] = df[\"Betrag\"].str.replace(\",\", \".\")\n",
    "df[\"Betrag\"] = df[\"Betrag\"].astype(\"float\")\n",
    "df"
   ],
   "metadata": {
    "collapsed": false,
    "ExecuteTime": {
     "end_time": "2024-04-03T18:55:31.909870Z",
     "start_time": "2024-04-03T18:55:31.897861Z"
    }
   },
   "id": "d502fee0068f698e",
   "execution_count": 13
  },
  {
   "cell_type": "code",
   "outputs": [
    {
     "data": {
      "text/plain": "Bezeichnung Auftragskonto                object\nIBAN Auftragskonto                       object\nBIC Auftragskonto                        object\nBankname Auftragskonto                   object\nBuchungstag                              object\nValutadatum                              object\nName Zahlungsbeteiligter                 object\nIBAN Zahlungsbeteiligter                 object\nBIC (SWIFT-Code) Zahlungsbeteiligter     object\nBuchungstext                             object\nVerwendungszweck                         object\nBetrag                                  float64\nWaehrung                                 object\nSaldo nach Buchung                       object\nBemerkung                               float64\nKategorie                                object\nSteuerrelevant                          float64\nGlaeubiger ID                            object\nMandatsreferenz                          object\ndtype: object"
     },
     "execution_count": 16,
     "metadata": {},
     "output_type": "execute_result"
    }
   ],
   "source": [
    "df.dtypes"
   ],
   "metadata": {
    "collapsed": false,
    "ExecuteTime": {
     "end_time": "2024-04-03T18:56:00.204977Z",
     "start_time": "2024-04-03T18:56:00.200724Z"
    }
   },
   "id": "1c877d0bd1b67c8a",
   "execution_count": 16
  },
  {
   "cell_type": "code",
   "outputs": [],
   "source": [],
   "metadata": {
    "collapsed": false
   },
   "id": "ffdd01515e485d38"
  }
 ],
 "metadata": {
  "kernelspec": {
   "display_name": "Python 3",
   "language": "python",
   "name": "python3"
  },
  "language_info": {
   "codemirror_mode": {
    "name": "ipython",
    "version": 2
   },
   "file_extension": ".py",
   "mimetype": "text/x-python",
   "name": "python",
   "nbconvert_exporter": "python",
   "pygments_lexer": "ipython2",
   "version": "2.7.6"
  }
 },
 "nbformat": 4,
 "nbformat_minor": 5
}
